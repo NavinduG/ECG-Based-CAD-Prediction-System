{
 "cells": [
  {
   "cell_type": "code",
   "execution_count": 108,
   "id": "e1198327",
   "metadata": {},
   "outputs": [],
   "source": [
    "import os\n",
    "from pathlib import Path\n",
    "import wfdb\n",
    "import numpy as np\n",
    "import pandas as pd\n",
    "from sklearn.model_selection import train_test_split"
   ]
  },
  {
   "cell_type": "code",
   "execution_count": 109,
   "id": "0c31d6d9",
   "metadata": {},
   "outputs": [],
   "source": [
    "# Database path\n",
    "database_path = Path('D:/IIT_SE/Learning Resources/4th Year/FYP/Project/ECG Based CAD Prediction System/src/datasets/mit-bih-arrhythmia-database-1.0.0')"
   ]
  },
  {
   "cell_type": "code",
   "execution_count": 110,
   "id": "7dfb6e50",
   "metadata": {},
   "outputs": [],
   "source": [
    "# List of records in the MIT-BIH Arrhythmia dataset\n",
    "records = ['100'] \n",
    "\n",
    "data = []\n",
    "\n",
    "# Loop through each record\n",
    "for record_name in records:\n",
    "    record_path = database_path / record_name\n",
    "    record = wfdb.rdrecord(str(record_path))\n",
    "    \n",
    "    try:\n",
    "        annotation = wfdb.rdann(str(record_path), 'atr')\n",
    "        \n",
    "        # Convert sample indices to labels\n",
    "        labels = []\n",
    "        for s in range(len(record.p_signal)):\n",
    "            indices = np.where(annotation.sample == s)[0]\n",
    "            if len(indices) > 0:\n",
    "                labels.append(annotation.symbol[indices[0]])\n",
    "            else:\n",
    "                labels.append(None)  # No annotation for this sample\n",
    "\n",
    "        # Create dataframe with waveform data and labels\n",
    "        combined_data = pd.DataFrame(data=record.p_signal, columns=record.sig_name)\n",
    "        combined_data['label'] = labels\n",
    "        \n",
    "        data.append(combined_data)\n",
    "    except Exception as e:\n",
    "        print(f\"Error processing record {record_name}: {e}\")\n",
    "\n",
    "# Concatenate data from all valid records\n",
    "if data:\n",
    "    data = pd.concat(data, ignore_index=True)\n",
    "\n",
    "    # Shuffle the dataset\n",
    "    data_shuffled = data.sample(frac=1, random_state=42).reset_index(drop=True)\n",
    "\n",
    "    # Split the dataset into features and labels\n",
    "    X = data_shuffled.drop(columns=[\"label\"])\n",
    "    y = data_shuffled[\"label\"]\n",
    "\n",
    "    # Split the dataset into training and testing sets\n",
    "    X_train, X_test, y_train, y_test = train_test_split(X, y, test_size=0.2, random_state=42)\n",
    "\n",
    "    # Write training data to CSV file\n",
    "    train_data = pd.concat([X_train, y_train], axis=1)\n",
    "    train_data.to_csv(\"100.csv\", index=False)\n",
    "else:\n",
    "    print(\"No valid data found to process.\")"
   ]
  },
  {
   "cell_type": "code",
   "execution_count": null,
   "id": "eb8e5e71",
   "metadata": {},
   "outputs": [],
   "source": []
  }
 ],
 "metadata": {
  "kernelspec": {
   "display_name": "Python 3 (ipykernel)",
   "language": "python",
   "name": "python3"
  },
  "language_info": {
   "codemirror_mode": {
    "name": "ipython",
    "version": 3
   },
   "file_extension": ".py",
   "mimetype": "text/x-python",
   "name": "python",
   "nbconvert_exporter": "python",
   "pygments_lexer": "ipython3",
   "version": "3.9.7"
  }
 },
 "nbformat": 4,
 "nbformat_minor": 5
}
